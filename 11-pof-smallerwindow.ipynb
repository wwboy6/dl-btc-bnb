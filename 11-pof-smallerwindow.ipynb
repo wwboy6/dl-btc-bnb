{
 "cells": [
  {
   "cell_type": "markdown",
   "metadata": {},
   "source": [
    "# 11 - Profit of future trends with multiple Model (Smaller window size)"
   ]
  },
  {
   "cell_type": "markdown",
   "metadata": {},
   "source": [
    "Try with a smaller window size and see how it affects the results."
   ]
  },
  {
   "cell_type": "code",
   "execution_count": 1,
   "metadata": {},
   "outputs": [
    {
     "name": "stdout",
     "output_type": "stream",
     "text": [
      "dataSize: 1010\n",
      "windowSize: 21\n",
      "testSize: 303\n",
      "input_scale: 676.967\n",
      "output_scale: 5.841402995389024\n"
     ]
    },
    {
     "data": {
      "image/png": "[encoded data removed]",
      "text/plain": [
       "<Figure size 1200x500 with 1 Axes>"
      ]
     },
     "metadata": {},
     "output_type": "display_data"
    },
    {
     "data": {
      "image/png": "[encoded data removed]",
      "text/plain": [
       "<Figure size 1200x500 with 1 Axes>"
      ]
     },
     "metadata": {},
     "output_type": "display_data"
    }
   ],
   "source": [
    "import tensorflow as tf\n",
    "import numpy as np\n",
    "import pandas as pd\n",
    "from tensorflow.keras import layers\n",
    "from util import *\n",
    "from nbeat import *\n",
    "\n",
    "bnb_data = pd.read_csv('data/BNBUSDT_1D_2.csv')\n",
    "bnb_close_values = bnb_data['Close']\n",
    "future_period = 21\n",
    "profit_of_future_log = covertToLogScale(computeProfitOfFuture(bnb_close_values, future_period))\n",
    "skip_count = 390\n",
    "\n",
    "input_data = np.array(bnb_data['Close'][skip_count:-future_period])\n",
    "output_data = profit_of_future_log[skip_count:]\n",
    "\n",
    "dataSize = len(input_data)\n",
    "assert(dataSize == len(output_data))\n",
    "windowSize = future_period\n",
    "testSize = round(dataSize * 0.3)\n",
    "print(f\"dataSize: {dataSize}\")\n",
    "print(f\"windowSize: {windowSize}\")\n",
    "print(f\"testSize: {testSize}\")\n",
    "\n",
    "input_scale = np.max(input_data)\n",
    "output_scale = np.max(profit_of_future_log)\n",
    "print(f\"input_scale: {input_scale}\")\n",
    "print(f\"output_scale: {output_scale}\")\n",
    "\n",
    "x_train = prepareTrainingInputs(input_data, windowSize, testSize)\n",
    "y_train = prepareTraingingOutputs(output_data, windowSize, testSize)\n",
    "x_test = prepareTestingInputs(input_data, windowSize, testSize)\n",
    "y_test = prepareTestingOutputs(output_data, testSize)\n",
    "\n",
    "x_train_rs, y_train_rs = undersampleSeriesDataTomekBySign(x_train, y_train)\n",
    "x_test_rs, y_test_rs = undersampleSeriesDataTomekBySign(x_test, y_test)\n",
    "\n",
    "# try skipping scaling this time\n",
    "# y_train_scaled = rescalingBySign(y_train_rs)\n",
    "# y_test_scaled = rescalingBySign(y_test_rs)\n",
    "\n",
    "plt.figure(figsize=(12, 5))\n",
    "plotBarColoredSign(y_train_rs)\n",
    "plt.title('y_train')\n",
    "plt.show()\n",
    "\n",
    "plt.figure(figsize=(12, 5))\n",
    "plotBarColoredSign(y_test_rs)\n",
    "plt.title('y_test')\n",
    "plt.show()\n"
   ]
  },
  {
   "cell_type": "code",
   "execution_count": 2,
   "metadata": {},
   "outputs": [
    {
     "name": "stdout",
     "output_type": "stream",
     "text": [
      "train up trend mean: 0.45745264732539165\n",
      "train down trend mean: 0.45318482903933244\n",
      "train neutral trend mean: 0.3980493940450537\n",
      "test up trend mean: 0.3869182129648781\n",
      "test down trend mean: 0.3863440515688829\n",
      "test neutral trend mean: 0.7211234331893736\n"
     ]
    }
   ],
   "source": [
    "# refer to 09-pof-singlemodel.ipynb\n",
    "ut_target = 2.5\n",
    "dt_target = -2.5\n",
    "nt_target = 2.9\n",
    "scaling = 3 / 2.5\n",
    "\n",
    "up_trend_train, down_trend_train, neutral_trend_train = computeUDNTrend(y_train_rs, ut_target, dt_target, nt_target, scaling)\n",
    "up_trend_test, down_trend_test, neutral_trend_test = computeUDNTrend(y_test_rs, ut_target, dt_target, nt_target, scaling)\n",
    "\n",
    "print(f\"train up trend mean: {np.mean(up_trend_train)}\")\n",
    "print(f\"train down trend mean: {np.mean(down_trend_train)}\")\n",
    "print(f\"train neutral trend mean: {np.mean(neutral_trend_train)}\")\n",
    "print(f\"test up trend mean: {np.mean(up_trend_test)}\")\n",
    "print(f\"test down trend mean: {np.mean(down_trend_test)}\")\n",
    "print(f\"test neutral trend mean: {np.mean(neutral_trend_test)}\")"
   ]
  },
  {
   "cell_type": "markdown",
   "metadata": {},
   "source": [
    "Trivial prediction brenchmarking"
   ]
  },
  {
   "cell_type": "code",
   "execution_count": 3,
   "metadata": {},
   "outputs": [
    {
     "name": "stdout",
     "output_type": "stream",
     "text": [
      "RMSE up: 0.76, down: 0.76, neutral: 0.43\n"
     ]
    }
   ],
   "source": [
    "test_count = len(up_trend_test)\n",
    "trivial_prediction = np.full([test_count], np.tanh(3))\n",
    "up_rmse0 = tf.keras.metrics.RootMeanSquaredError()(trivial_prediction, up_trend_test).numpy()\n",
    "down_rmse0 = tf.keras.metrics.RootMeanSquaredError()(trivial_prediction, down_trend_test).numpy()\n",
    "trivial_prediction = np.ones(test_count)\n",
    "neutral_rmse0 = tf.keras.metrics.RootMeanSquaredError()(trivial_prediction, neutral_trend_test).numpy()\n",
    "print(f\"RMSE up: {up_rmse0:.2f}, down: {down_rmse0:.2f}, neutral: {neutral_rmse0:.2f}\")"
   ]
  },
  {
   "cell_type": "code",
   "execution_count": 4,
   "metadata": {},
   "outputs": [],
   "source": [
    "datasets = [\n",
    "  { 'y_train': up_trend_train, 'y_test': up_trend_test, 'x_train': x_train_rs, 'x_test': x_test_rs, 'name': \"Up trend\" },\n",
    "  { 'y_train': down_trend_train, 'y_test': down_trend_test, 'x_train': x_train_rs, 'x_test': x_test_rs, 'name': \"Down trend\" },\n",
    "  { 'y_train': neutral_trend_train, 'y_test': neutral_trend_test, 'x_train': x_train_rs, 'x_test': x_test_rs, 'name': \"Neutral trend\" },\n",
    "]\n",
    "\n",
    "for dataset in datasets:\n",
    "  dataset['train_dataset'], dataset['test_dataset'] = prepareDataSetFromArray(dataset['x_train'], dataset['y_train'], dataset['x_test'], dataset['y_test'], shuffle=True, batch_size=256)\n"
   ]
  },
  {
   "cell_type": "markdown",
   "metadata": {},
   "source": [
    "#### [Model1] ARIMA"
   ]
  },
  {
   "cell_type": "code",
   "execution_count": null,
   "metadata": {},
   "outputs": [
    {
     "name": "stdout",
     "output_type": "stream",
     "text": [
      "================= Up trend training ================\n",
      "WARNING:tensorflow:Layer lstm will not use cuDNN kernels since it doesn't meet the criteria. It will use a generic GPU kernel as fallback when running on GPU.\n",
      "WARNING:tensorflow:Layer lstm_1 will not use cuDNN kernels since it doesn't meet the criteria. It will use a generic GPU kernel as fallback when running on GPU.\n",
      "WARNING:tensorflow:Layer lstm_3 will not use cuDNN kernels since it doesn't meet the criteria. It will use a generic GPU kernel as fallback when running on GPU.\n",
      "\n",
      "Epoch 8: ReduceLROnPlateau reducing learning rate to 5.0000002374872565e-05.\n",
      "\n",
      "Epoch 13: ReduceLROnPlateau reducing learning rate to 5.000000237487257e-06.\n",
      "\n",
      "Epoch 18: ReduceLROnPlateau reducing learning rate to 5.000000328436726e-07.\n",
      "Restoring model weights from the end of the best epoch: 3.\n",
      "\n",
      "Epoch 23: ReduceLROnPlateau reducing learning rate to 5.000000555810402e-08.\n",
      "Epoch 23: early stopping\n",
      "8/8 [==============================] - 1s 28ms/step - loss: 0.2142 - mse: 0.2142\n",
      "loss: 0.4628317751273846\n",
      "corr: 0.16572247378239566\n",
      "================= Down trend training ================\n",
      "WARNING:tensorflow:Layer lstm_4 will not use cuDNN kernels since it doesn't meet the criteria. It will use a generic GPU kernel as fallback when running on GPU.\n",
      "WARNING:tensorflow:Layer lstm_5 will not use cuDNN kernels since it doesn't meet the criteria. It will use a generic GPU kernel as fallback when running on GPU.\n",
      "WARNING:tensorflow:Layer lstm_7 will not use cuDNN kernels since it doesn't meet the criteria. It will use a generic GPU kernel as fallback when running on GPU.\n",
      "\n",
      "Epoch 13: ReduceLROnPlateau reducing learning rate to 5.0000002374872565e-05.\n",
      "\n",
      "Epoch 18: ReduceLROnPlateau reducing learning rate to 5.000000237487257e-06.\n",
      "\n",
      "Epoch 23: ReduceLROnPlateau reducing learning rate to 5.000000328436726e-07.\n",
      "Restoring model weights from the end of the best epoch: 8.\n",
      "\n",
      "Epoch 28: ReduceLROnPlateau reducing learning rate to 5.000000555810402e-08.\n",
      "Epoch 28: early stopping\n",
      "8/8 [==============================] - 1s 26ms/step - loss: 0.1991 - mse: 0.1991\n",
      "loss: 0.4461581081857479\n",
      "corr: 0.3316316491499234\n",
      "================= Neutral trend training ================\n",
      "WARNING:tensorflow:Layer lstm_8 will not use cuDNN kernels since it doesn't meet the criteria. It will use a generic GPU kernel as fallback when running on GPU.\n",
      "WARNING:tensorflow:Layer lstm_9 will not use cuDNN kernels since it doesn't meet the criteria. It will use a generic GPU kernel as fallback when running on GPU.\n",
      "WARNING:tensorflow:Layer lstm_11 will not use cuDNN kernels since it doesn't meet the criteria. It will use a generic GPU kernel as fallback when running on GPU.\n",
      "\n",
      "Epoch 7: ReduceLROnPlateau reducing learning rate to 5.0000002374872565e-05.\n"
     ]
    }
   ],
   "source": [
    "from operator import itemgetter\n",
    "\n",
    "neuronCount = 128\n",
    "\n",
    "for dataset in datasets:\n",
    "  name, x_test, y_test, train_dataset, test_dataset = itemgetter('name', 'x_test', 'y_test', 'train_dataset', 'test_dataset')(dataset)\n",
    "  print(f\"================= {name} training ================\")\n",
    "  # Create input to stacks\n",
    "  input = layers.Input(shape=(windowSize,1), name=\"stack_input\")\n",
    "  x = input\n",
    "  x = tf.keras.layers.multiply([x, np.array([1./input_scale])])\n",
    "  x = tf.keras.layers.LSTM(neuronCount, activation='relu', return_sequences=True)(x)\n",
    "  x = tf.keras.layers.LSTM(round(neuronCount/2), activation='relu', return_sequences=True)(x)\n",
    "  # residual\n",
    "  residual = tf.keras.layers.LSTM(round(neuronCount/2), return_sequences=True)(input)  # Skip connection\n",
    "  x = tf.keras.layers.Add()([x, residual])  # Adding the residual connection\n",
    "  x = tf.keras.layers.LSTM(round(neuronCount/4), activation='relu')(x)\n",
    "  # dense layers\n",
    "  x = tf.keras.layers.Dense(512, activation='relu')(x)\n",
    "  x = tf.keras.layers.Dense(128, activation='relu')(x)\n",
    "  x = tf.keras.layers.Dense(32, activation='relu')(x)\n",
    "  x = tf.keras.layers.Dense(1, activation=\"linear\")(x)\n",
    "  model = tf.keras.Model(inputs=input, outputs=x)\n",
    "  model.compile(loss=\"mse\",\n",
    "                optimizer=tf.keras.optimizers.Adam(0.0005),\n",
    "                metrics=[\"mse\"])\n",
    "  dataset['model1'] = model\n",
    "  # train for 5 epochs first\n",
    "  # noValidationTrainingAndReport(model, x_test, y_test, train_dataset, epochs=7, plotGraph=False)\n",
    "  history, rmse, corr = standardTrainingAndReport(model, x_test, y_test, train_dataset, test_dataset)\n",
    "  dataset['history1'] = history\n",
    "  dataset['rmse1'] = rmse\n",
    "  dataset['corr1'] = corr"
   ]
  },
  {
   "cell_type": "markdown",
   "metadata": {},
   "source": [
    "##### Training predictions"
   ]
  },
  {
   "cell_type": "code",
   "execution_count": null,
   "metadata": {},
   "outputs": [],
   "source": [
    "prediction = np.column_stack([dataset['model1'].predict(dataset['x_train']) for dataset in datasets])\n",
    "\n",
    "# clip prediction before plotting\n",
    "dataCount = len(prediction)\n",
    "prediction = np.clip(prediction, np.zeros([dataCount, 3]), np.ones([dataCount, 3]))\n",
    "\n",
    "plt.figure()\n",
    "fig, ax = plt.subplots(figsize=(18, 5))\n",
    "drawBarsForTrends(fig, ax, up_trend_train, down_trend_train, neutral_trend_train, ut_target)\n",
    "ax.plot(y_train_rs, label='actual')\n",
    "ax.set_title('Trends vs actual PoF')\n",
    "\n",
    "plt.figure()\n",
    "fig, ax = plt.subplots(figsize=(18, 5))\n",
    "drawBarsForTrends(fig, ax, prediction[:,0], prediction[:,1], prediction[:,2], ut_target)\n",
    "ax.plot(y_train_rs, label='actual')\n",
    "ax.set_title('Training prediction')\n",
    "\n",
    "plt.figure()\n",
    "fig, ax = plt.subplots(figsize=(18, 5))\n",
    "drawBarsForTrends(fig, ax, prediction[:,0], prediction[:,1], prediction[:,2], ut_target, norm=Normalize(vmin=np.min(prediction), vmax=np.max(prediction)))\n",
    "ax.plot(y_train_rs, label='actual')\n",
    "ax.set_title('Training prediction (fix norm)')\n",
    "\n",
    "plt.figure()\n",
    "fig, ax = plt.subplots(figsize=(18, 5))\n",
    "drawBarsForTrends(fig, ax, prediction[:,0], prediction[:,1], prediction[:,2], ut_target, norm=None)\n",
    "ax.plot(y_train_rs, label='actual')\n",
    "ax.set_title('Training prediction (no norm)')\n"
   ]
  },
  {
   "cell_type": "markdown",
   "metadata": {},
   "source": [
    "##### Testing predictions"
   ]
  },
  {
   "cell_type": "code",
   "execution_count": null,
   "metadata": {},
   "outputs": [],
   "source": [
    "prediction = np.column_stack([dataset['model1'].predict(dataset['x_test']) for dataset in datasets])\n",
    "\n",
    "# clip prediction before plotting\n",
    "dataCount = len(prediction)\n",
    "prediction = np.clip(prediction, np.zeros([dataCount, 3]), np.ones([dataCount, 3]))\n",
    "\n",
    "plt.figure()\n",
    "fig, ax = plt.subplots(figsize=(18, 5))\n",
    "drawBarsForTrends(fig, ax, up_trend_test, down_trend_test, neutral_trend_test, ut_target)\n",
    "ax.plot(y_test_rs, label='actual')\n",
    "ax.set_title('Trends vs actual PoF')\n",
    "\n",
    "plt.figure()\n",
    "fig, ax = plt.subplots(figsize=(18, 5))\n",
    "drawBarsForTrends(fig, ax, prediction[:,0], prediction[:,1], prediction[:,2], ut_target)\n",
    "ax.plot(y_test_rs, label='actual')\n",
    "ax.set_title('Testing prediction')\n",
    "\n",
    "plt.figure()\n",
    "fig, ax = plt.subplots(figsize=(18, 5))\n",
    "drawBarsForTrends(fig, ax, prediction[:,0], prediction[:,1], prediction[:,2], ut_target, norm=Normalize(vmin=np.min(prediction), vmax=np.max(prediction)))\n",
    "ax.plot(y_test_rs, label='actual')\n",
    "ax.set_title('Testing prediction (fix norm)')\n",
    "\n",
    "plt.figure()\n",
    "fig, ax = plt.subplots(figsize=(18, 5))\n",
    "drawBarsForTrends(fig, ax, prediction[:,0], prediction[:,1], prediction[:,2], ut_target, norm=None)\n",
    "ax.plot(y_test_rs, label='actual')\n",
    "ax.set_title('Testing prediction (no norm)')"
   ]
  },
  {
   "cell_type": "markdown",
   "metadata": {},
   "source": [
    "#### [Model2] N-BEATS"
   ]
  },
  {
   "cell_type": "code",
   "execution_count": null,
   "metadata": {},
   "outputs": [],
   "source": [
    "for dataset in datasets:\n",
    "  name, x_test, y_test, train_dataset, test_dataset = itemgetter('name', 'x_test', 'y_test', 'train_dataset', 'test_dataset')(dataset)\n",
    "  print(f\"================= {name} training ================\")\n",
    "  nbeatNeuronCount = 512\n",
    "  nBeatLayerCount = 4\n",
    "  nBeatStackCount = 30\n",
    "  input = layers.Input(shape=(windowSize), name=\"stack_input\")\n",
    "  x = input\n",
    "  x = tf.keras.layers.multiply([x, np.array([1./input_scale])])\n",
    "  x = buildNBeatLayers(windowSize, windowSize+1, 1, nbeatNeuronCount, nBeatLayerCount, nBeatStackCount, x)\n",
    "  model = tf.keras.Model(inputs=input, outputs=x)\n",
    "  model.compile(loss=\"mse\",\n",
    "                optimizer=tf.keras.optimizers.Adam(0.00025),\n",
    "                metrics=[\"mse\"])\n",
    "  dataset['model2'] = model\n",
    "  # train for 3 epoches first\n",
    "  # noValidationTrainingAndReport(model, x_test, y_test, train_dataset, epochs=3, plotGraph=False)\n",
    "  history, rmse, corr = standardTrainingAndReport(model, x_test, y_test, train_dataset, test_dataset)\n",
    "  dataset['history2'] = history\n",
    "  dataset['rmse2'] = rmse\n",
    "  dataset['corr2'] = corr"
   ]
  },
  {
   "cell_type": "markdown",
   "metadata": {},
   "source": [
    "##### Training predictions"
   ]
  },
  {
   "cell_type": "code",
   "execution_count": null,
   "metadata": {},
   "outputs": [],
   "source": [
    "prediction = np.column_stack([dataset['model2'].predict(dataset['x_train']) for dataset in datasets])\n",
    "\n",
    "# clip prediction before plotting\n",
    "dataCount = len(prediction)\n",
    "prediction = np.clip(prediction, np.zeros([dataCount, 3]), np.ones([dataCount, 3]))\n",
    "\n",
    "plt.figure()\n",
    "fig, ax = plt.subplots(figsize=(18, 5))\n",
    "drawBarsForTrends(fig, ax, up_trend_train, down_trend_train, neutral_trend_train, ut_target)\n",
    "ax.plot(y_train_rs, label='actual')\n",
    "ax.set_title('Trends vs actual PoF')\n",
    "\n",
    "plt.figure()\n",
    "fig, ax = plt.subplots(figsize=(18, 5))\n",
    "drawBarsForTrends(fig, ax, prediction[:,0], prediction[:,1], prediction[:,2], ut_target)\n",
    "ax.plot(y_train_rs, label='actual')\n",
    "ax.set_title('Training prediction')\n",
    "\n",
    "plt.figure()\n",
    "fig, ax = plt.subplots(figsize=(18, 5))\n",
    "drawBarsForTrends(fig, ax, prediction[:,0], prediction[:,1], prediction[:,2], ut_target, norm=Normalize(vmin=np.min(prediction), vmax=np.max(prediction)))\n",
    "ax.plot(y_train_rs, label='actual')\n",
    "ax.set_title('Training prediction (fix norm)')\n",
    "\n",
    "plt.figure()\n",
    "fig, ax = plt.subplots(figsize=(18, 5))\n",
    "drawBarsForTrends(fig, ax, prediction[:,0], prediction[:,1], prediction[:,2], ut_target, norm=None)\n",
    "ax.plot(y_train_rs, label='actual')\n",
    "ax.set_title('Training prediction (no norm)')\n"
   ]
  },
  {
   "cell_type": "markdown",
   "metadata": {},
   "source": [
    "##### Testing predictions"
   ]
  },
  {
   "cell_type": "code",
   "execution_count": null,
   "metadata": {},
   "outputs": [],
   "source": [
    "prediction = np.column_stack([dataset['model2'].predict(dataset['x_test']) for dataset in datasets])\n",
    "\n",
    "# clip prediction before plotting\n",
    "dataCount = len(prediction)\n",
    "prediction = np.clip(prediction, np.zeros([dataCount, 3]), np.ones([dataCount, 3]))\n",
    "\n",
    "plt.figure()\n",
    "fig, ax = plt.subplots(figsize=(18, 5))\n",
    "drawBarsForTrends(fig, ax, up_trend_test, down_trend_test, neutral_trend_test, ut_target)\n",
    "ax.plot(y_test_rs, label='actual')\n",
    "ax.set_title('Trends vs actual PoF')\n",
    "\n",
    "plt.figure()\n",
    "fig, ax = plt.subplots(figsize=(18, 5))\n",
    "drawBarsForTrends(fig, ax, prediction[:,0], prediction[:,1], prediction[:,2], ut_target)\n",
    "ax.plot(y_test_rs, label='actual')\n",
    "ax.set_title('Testing prediction')\n",
    "\n",
    "plt.figure()\n",
    "fig, ax = plt.subplots(figsize=(18, 5))\n",
    "drawBarsForTrends(fig, ax, prediction[:,0], prediction[:,1], prediction[:,2], ut_target, norm=Normalize(vmin=np.min(prediction), vmax=np.max(prediction)))\n",
    "ax.plot(y_test_rs, label='actual')\n",
    "ax.set_title('Testing prediction (fix norm)')\n",
    "\n",
    "plt.figure()\n",
    "fig, ax = plt.subplots(figsize=(18, 5))\n",
    "drawBarsForTrends(fig, ax, prediction[:,0], prediction[:,1], prediction[:,2], ut_target, norm=None)\n",
    "ax.plot(y_test_rs, label='actual')\n",
    "ax.set_title('Testing prediction (no norm)')"
   ]
  },
  {
   "cell_type": "code",
   "execution_count": null,
   "metadata": {},
   "outputs": [],
   "source": [
    "species = (\"Trivial\", \"ARIMA\", \"N-Beats\")\n",
    "rmses = {\n",
    "    'Up': { 'measurement': [up_rmse0, datasets[0]['rmse1'], datasets[0]['rmse2']], 'color': 'green' },\n",
    "    'Down': { 'measurement': [down_rmse0, datasets[1]['rmse1'], datasets[1]['rmse2']], 'color': 'red' },\n",
    "    'Neutral': { 'measurement': [neutral_rmse0, datasets[2]['rmse1'], datasets[2]['rmse2']], 'color': 'yellow' },\n",
    "}\n",
    "\n",
    "x = np.arange(len(species))  # the label locations\n",
    "width = 0.25  # the width of the bars\n",
    "multiplier = 0\n",
    "\n",
    "fig, ax = plt.subplots(layout='constrained', figsize=(9, 5))\n",
    "\n",
    "for attribute, info in rmses.items():\n",
    "    offset = width * multiplier\n",
    "    rects = ax.bar(x + offset, info['measurement'], width, label=attribute, color=info['color'])\n",
    "    ax.bar_label(rects, padding=3)\n",
    "    multiplier += 1\n",
    "\n",
    "# Add some text for labels, title and custom x-axis tick labels, etc.\n",
    "ax.set_title('Root Mean Squared Error')\n",
    "ax.set_xticks(x + width, species)\n",
    "ax.set_ylim(0, 0.9)\n",
    "ax.legend(loc='upper left', ncols=3)\n",
    "plt.show()\n"
   ]
  },
  {
   "cell_type": "code",
   "execution_count": null,
   "metadata": {},
   "outputs": [],
   "source": [
    "species = (\"ARIMA\", \"N-Beats\")\n",
    "rmses = {\n",
    "    'Up': { 'measurement': [datasets[0]['corr1'], datasets[0]['corr2']], 'color': 'green' },\n",
    "    'Down': { 'measurement': [datasets[1]['corr1'], datasets[1]['corr2']], 'color': 'red' },\n",
    "    'Neutral': { 'measurement': [datasets[2]['corr1'], datasets[2]['corr2']], 'color': 'yellow' }\n",
    "}\n",
    "\n",
    "x = np.arange(len(species))  # the label locations\n",
    "width = 0.25  # the width of the bars\n",
    "multiplier = 0\n",
    "\n",
    "fig, ax = plt.subplots(layout='constrained')\n",
    "\n",
    "for attribute, info in rmses.items():\n",
    "    offset = width * multiplier\n",
    "    rects = ax.bar(x + offset, info['measurement'], width, color=info['color'])\n",
    "    ax.bar_label(rects, padding=3)\n",
    "    multiplier += 1\n",
    "\n",
    "# Add some text for labels, title and custom x-axis tick labels, etc.\n",
    "ax.set_title('Correlations')\n",
    "ax.set_xticks(x + width, species)\n",
    "ax.legend(loc='upper left', ncols=3)\n",
    "plt.show()\n"
   ]
  },
  {
   "cell_type": "markdown",
   "metadata": {},
   "source": [
    "Overall no significant change at all"
   ]
  }
 ],
 "metadata": {
  "kernelspec": {
   "display_name": "tf2",
   "language": "python",
   "name": "python3"
  },
  "language_info": {
   "codemirror_mode": {
    "name": "ipython",
    "version": 3
   },
   "file_extension": ".py",
   "mimetype": "text/x-python",
   "name": "python",
   "nbconvert_exporter": "python",
   "pygments_lexer": "ipython3",
   "version": "3.9.20"
  }
 },
 "nbformat": 4,
 "nbformat_minor": 2
}
